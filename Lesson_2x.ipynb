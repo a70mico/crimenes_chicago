{
  "cells": [
    {
      "cell_type": "markdown",
      "metadata": {
        "id": "sxKCIcdgk1_N"
      },
      "source": [
        "## **Lesson 2:** A simple example of data analysis on Codespace\n",
        "Congratulations team. Our commercial team has landed a potential customer, the City of Chicago, and they want us to analyze the crime data in the city. They have provided a dataset, and they want us to showcase our skills by giving a sneak peek of what we can understand from the data. As this is our first assignment, the management want everybody to take the task and create a repository with the code for the analysis.\n",
        "\n",
        "### **Section 1:** Basic commands on the terminal\n",
        "\n",
        "To make our work reproducible, we need an isolated environment to run our scripts. In Google Colab, you get an ephemeral virtual machine (with RAM and GB), where you can create notebooks and run scripts and even terminal commands. In Codespaces, you can spin up an ephemeral virtual machine (with RAM and GB) where you can sync your files with the repository. Let's learn some basic commands."
      ]
    },
    {
      "cell_type": "code",
      "execution_count": 1,
      "metadata": {
        "id": "vYkzM0LXl5rd"
      },
      "outputs": [
        {
          "name": "stdout",
          "output_type": "stream",
          "text": [
            "Python 3.12.1\n"
          ]
        }
      ],
      "source": [
        "# View python version\n",
        "!python --version"
      ]
    },
    {
      "cell_type": "code",
      "execution_count": 3,
      "metadata": {
        "id": "GtZcSy5kkD90"
      },
      "outputs": [
        {
          "name": "stdout",
          "output_type": "stream",
          "text": [
            "asttokens==2.4.1\n",
            "attrs==24.2.0\n",
            "comm==0.2.2\n",
            "contourpy==1.3.0\n",
            "cycler==0.12.1\n",
            "debugpy==1.8.5\n",
            "decorator==5.1.1\n",
            "executing==2.0.1\n",
            "fastjsonschema==2.20.0\n",
            "fonttools==4.53.1\n",
            "ipykernel==6.29.5\n",
            "ipython==8.26.0\n",
            "jedi==0.19.1\n",
            "jsonschema==4.23.0\n",
            "jsonschema-specifications==2023.12.1\n",
            "jupyter_client==8.6.2\n",
            "jupyter_core==5.7.2\n",
            "kiwisolver==1.4.5\n",
            "matplotlib==3.9.2\n",
            "matplotlib-inline==0.1.7\n",
            "nbformat==5.10.4\n",
            "nest-asyncio==1.6.0\n",
            "numpy==2.1.0\n",
            "packaging==24.1\n",
            "pandas==2.2.2\n",
            "parso==0.8.4\n",
            "pexpect==4.9.0\n",
            "pillow==10.4.0\n",
            "platformdirs==4.2.2\n",
            "prompt_toolkit==3.0.47\n",
            "psutil==6.0.0\n",
            "ptyprocess==0.7.0\n",
            "pure_eval==0.2.3\n",
            "Pygments==2.18.0\n",
            "pyparsing==3.1.4\n",
            "python-dateutil==2.9.0.post0\n",
            "pytz==2024.1\n",
            "pyzmq==26.2.0\n",
            "referencing==0.35.1\n",
            "rpds-py==0.20.0\n",
            "six==1.16.0\n",
            "stack-data==0.6.3\n",
            "tornado==6.4.1\n",
            "traitlets==5.14.3\n",
            "tzdata==2024.1\n",
            "wcwidth==0.2.13\n"
          ]
        }
      ],
      "source": [
        "# List installed packages\n",
        "!pip freeze"
      ]
    },
    {
      "cell_type": "code",
      "execution_count": 4,
      "metadata": {
        "id": "SKtTyegumR_V"
      },
      "outputs": [
        {
          "name": "stdout",
          "output_type": "stream",
          "text": [
            "/workspaces/crimenes_chicago\n"
          ]
        }
      ],
      "source": [
        "# View current directory\n",
        "!pwd\n"
      ]
    },
    {
      "cell_type": "code",
      "execution_count": 6,
      "metadata": {
        "id": "uftQ3Yv-mLCY"
      },
      "outputs": [
        {
          "name": "stdout",
          "output_type": "stream",
          "text": [
            ".  ..  .git  .venv  Lesson_2x.ipynb  README.md\n"
          ]
        }
      ],
      "source": [
        "# View current files\n",
        "!ls -a\n"
      ]
    },
    {
      "cell_type": "code",
      "execution_count": 7,
      "metadata": {
        "id": "1IH4APiacnWV"
      },
      "outputs": [],
      "source": [
        "# Create a file\n",
        "!touch files.txt"
      ]
    },
    {
      "cell_type": "code",
      "execution_count": 20,
      "metadata": {
        "id": "UKISVCPMcu9S"
      },
      "outputs": [],
      "source": [
        "# Add the file and then commit into the local repo\n"
      ]
    },
    {
      "cell_type": "code",
      "execution_count": 21,
      "metadata": {
        "id": "K87eUci7c4RE"
      },
      "outputs": [],
      "source": [
        "# Push the file into the remote repo"
      ]
    },
    {
      "cell_type": "markdown",
      "metadata": {
        "id": "dnWi9xeenTpG"
      },
      "source": [
        "### **Section 2:** Let's dive into reading data\n",
        "\n",
        "Download the following file from this url: https://data.cityofchicago.org/api/views/qnmj-8ku6/rows.csv?accessType=DOWNLOAD\n",
        "\n",
        "It has records from the Crimes - 2001 to Present dataset for the 2014 year[1].\n",
        "\n",
        "Please, answer the following questions:\n",
        "1. How many crimes were reported in 2014?\n",
        "2. How many crimes were reported in December 2014?\n",
        "3. What are the top 5 crimes?\n",
        "4. Which day has the most and less crimes?\n",
        "5. Is there a trend in the crimes commited?"
      ]
    },
    {
      "cell_type": "code",
      "execution_count": 8,
      "metadata": {
        "id": "qFO8sTAXdvUC"
      },
      "outputs": [
        {
          "name": "stdout",
          "output_type": "stream",
          "text": [
            "  % Total    % Received % Xferd  Average Speed   Time    Time     Time  Current\n",
            "                                 Dload  Upload   Total   Spent    Left  Speed\n",
            "100 62.3M    0 62.3M    0     0  2960k      0 --:--:--  0:00:21 --:--:-- 3051k\n"
          ]
        }
      ],
      "source": [
        "# Download the file using the terminal\n",
        "!curl -o data_crimenes.csv https://data.cityofchicago.org/api/views/qnmj-8ku6/rows.csv?accessType=DOWNLOAD"
      ]
    },
    {
      "cell_type": "code",
      "execution_count": 19,
      "metadata": {
        "id": "TBNn-6OboNl4"
      },
      "outputs": [],
      "source": [
        "# Step 0. Load libraries and custom functions\n",
        "import pandas as pd\n",
        "import matplotlib.pyplot as plt\n",
        "import numpy as np"
      ]
    },
    {
      "cell_type": "code",
      "execution_count": 11,
      "metadata": {
        "id": "KJqXT1BfopU2"
      },
      "outputs": [],
      "source": [
        "# Step 1. Read data and get a quick view\n",
        "# 1.1 Read the dataset\n",
        "df_raw = pd.read_csv (\"data_crimenes.csv\")"
      ]
    },
    {
      "cell_type": "code",
      "execution_count": 12,
      "metadata": {
        "id": "B7h16x52p3CO"
      },
      "outputs": [
        {
          "data": {
            "text/html": [
              "<div>\n",
              "<style scoped>\n",
              "    .dataframe tbody tr th:only-of-type {\n",
              "        vertical-align: middle;\n",
              "    }\n",
              "\n",
              "    .dataframe tbody tr th {\n",
              "        vertical-align: top;\n",
              "    }\n",
              "\n",
              "    .dataframe thead th {\n",
              "        text-align: right;\n",
              "    }\n",
              "</style>\n",
              "<table border=\"1\" class=\"dataframe\">\n",
              "  <thead>\n",
              "    <tr style=\"text-align: right;\">\n",
              "      <th></th>\n",
              "      <th>ID</th>\n",
              "      <th>Case Number</th>\n",
              "      <th>Date</th>\n",
              "      <th>Block</th>\n",
              "      <th>IUCR</th>\n",
              "      <th>Primary Type</th>\n",
              "      <th>Description</th>\n",
              "      <th>Location Description</th>\n",
              "      <th>Arrest</th>\n",
              "      <th>Domestic</th>\n",
              "      <th>...</th>\n",
              "      <th>Ward</th>\n",
              "      <th>Community Area</th>\n",
              "      <th>FBI Code</th>\n",
              "      <th>X Coordinate</th>\n",
              "      <th>Y Coordinate</th>\n",
              "      <th>Year</th>\n",
              "      <th>Updated On</th>\n",
              "      <th>Latitude</th>\n",
              "      <th>Longitude</th>\n",
              "      <th>Location</th>\n",
              "    </tr>\n",
              "  </thead>\n",
              "  <tbody>\n",
              "    <tr>\n",
              "      <th>227173</th>\n",
              "      <td>9854112</td>\n",
              "      <td>HX502559</td>\n",
              "      <td>11/10/2014 08:40:00 PM</td>\n",
              "      <td>096XX S LONGWOOD DR</td>\n",
              "      <td>0330</td>\n",
              "      <td>ROBBERY</td>\n",
              "      <td>AGGRAVATED</td>\n",
              "      <td>PARK PROPERTY</td>\n",
              "      <td>False</td>\n",
              "      <td>False</td>\n",
              "      <td>...</td>\n",
              "      <td>19.0</td>\n",
              "      <td>72</td>\n",
              "      <td>03</td>\n",
              "      <td>1165600.0</td>\n",
              "      <td>1840691.0</td>\n",
              "      <td>2014</td>\n",
              "      <td>02/10/2018 03:50:01 PM</td>\n",
              "      <td>41.718441</td>\n",
              "      <td>-87.669068</td>\n",
              "      <td>(41.718441222, -87.669068016)</td>\n",
              "    </tr>\n",
              "    <tr>\n",
              "      <th>146448</th>\n",
              "      <td>9718163</td>\n",
              "      <td>HX367195</td>\n",
              "      <td>07/30/2014 07:12:00 PM</td>\n",
              "      <td>056XX S NEW ENGLAND AVE</td>\n",
              "      <td>0810</td>\n",
              "      <td>THEFT</td>\n",
              "      <td>OVER $500</td>\n",
              "      <td>RESIDENCE</td>\n",
              "      <td>False</td>\n",
              "      <td>True</td>\n",
              "      <td>...</td>\n",
              "      <td>23.0</td>\n",
              "      <td>56</td>\n",
              "      <td>06</td>\n",
              "      <td>1131350.0</td>\n",
              "      <td>1866406.0</td>\n",
              "      <td>2014</td>\n",
              "      <td>02/10/2018 03:50:01 PM</td>\n",
              "      <td>41.789665</td>\n",
              "      <td>-87.793926</td>\n",
              "      <td>(41.789665135, -87.793925548)</td>\n",
              "    </tr>\n",
              "    <tr>\n",
              "      <th>139535</th>\n",
              "      <td>9714263</td>\n",
              "      <td>HX364760</td>\n",
              "      <td>07/28/2014 11:50:00 PM</td>\n",
              "      <td>030XX W MADISON ST</td>\n",
              "      <td>0554</td>\n",
              "      <td>ASSAULT</td>\n",
              "      <td>AGG PO HANDS NO/MIN INJURY</td>\n",
              "      <td>STREET</td>\n",
              "      <td>True</td>\n",
              "      <td>False</td>\n",
              "      <td>...</td>\n",
              "      <td>2.0</td>\n",
              "      <td>27</td>\n",
              "      <td>08A</td>\n",
              "      <td>1156332.0</td>\n",
              "      <td>1899869.0</td>\n",
              "      <td>2014</td>\n",
              "      <td>02/10/2018 03:50:01 PM</td>\n",
              "      <td>41.881025</td>\n",
              "      <td>-87.701420</td>\n",
              "      <td>(41.881025006, -87.701420232)</td>\n",
              "    </tr>\n",
              "    <tr>\n",
              "      <th>146787</th>\n",
              "      <td>9687634</td>\n",
              "      <td>HX337754</td>\n",
              "      <td>07/09/2014 09:00:00 AM</td>\n",
              "      <td>003XX N MENARD AVE</td>\n",
              "      <td>1320</td>\n",
              "      <td>CRIMINAL DAMAGE</td>\n",
              "      <td>TO VEHICLE</td>\n",
              "      <td>STREET</td>\n",
              "      <td>False</td>\n",
              "      <td>False</td>\n",
              "      <td>...</td>\n",
              "      <td>29.0</td>\n",
              "      <td>25</td>\n",
              "      <td>14</td>\n",
              "      <td>1137653.0</td>\n",
              "      <td>1901606.0</td>\n",
              "      <td>2014</td>\n",
              "      <td>02/10/2018 03:50:01 PM</td>\n",
              "      <td>41.886148</td>\n",
              "      <td>-87.769967</td>\n",
              "      <td>(41.886148491, -87.769967293)</td>\n",
              "    </tr>\n",
              "    <tr>\n",
              "      <th>210595</th>\n",
              "      <td>9786273</td>\n",
              "      <td>HX434914</td>\n",
              "      <td>09/19/2014 12:06:00 PM</td>\n",
              "      <td>032XX W DOUGLAS BLVD</td>\n",
              "      <td>0880</td>\n",
              "      <td>THEFT</td>\n",
              "      <td>PURSE-SNATCHING</td>\n",
              "      <td>RESIDENCE PORCH/HALLWAY</td>\n",
              "      <td>False</td>\n",
              "      <td>False</td>\n",
              "      <td>...</td>\n",
              "      <td>24.0</td>\n",
              "      <td>29</td>\n",
              "      <td>06</td>\n",
              "      <td>1155132.0</td>\n",
              "      <td>1893275.0</td>\n",
              "      <td>2014</td>\n",
              "      <td>02/10/2018 03:50:01 PM</td>\n",
              "      <td>41.862955</td>\n",
              "      <td>-87.706004</td>\n",
              "      <td>(41.86295454, -87.706003528)</td>\n",
              "    </tr>\n",
              "    <tr>\n",
              "      <th>141349</th>\n",
              "      <td>9797877</td>\n",
              "      <td>HX447167</td>\n",
              "      <td>09/28/2014 06:50:00 PM</td>\n",
              "      <td>044XX S WOODLAWN AVE</td>\n",
              "      <td>0820</td>\n",
              "      <td>THEFT</td>\n",
              "      <td>$500 AND UNDER</td>\n",
              "      <td>PARK PROPERTY</td>\n",
              "      <td>False</td>\n",
              "      <td>False</td>\n",
              "      <td>...</td>\n",
              "      <td>4.0</td>\n",
              "      <td>39</td>\n",
              "      <td>06</td>\n",
              "      <td>1184999.0</td>\n",
              "      <td>1875651.0</td>\n",
              "      <td>2014</td>\n",
              "      <td>02/10/2018 03:50:01 PM</td>\n",
              "      <td>41.813942</td>\n",
              "      <td>-87.596921</td>\n",
              "      <td>(41.813942046, -87.596920696)</td>\n",
              "    </tr>\n",
              "    <tr>\n",
              "      <th>138992</th>\n",
              "      <td>9838883</td>\n",
              "      <td>HX488047</td>\n",
              "      <td>10/30/2014 11:50:00 AM</td>\n",
              "      <td>0000X E 103RD ST</td>\n",
              "      <td>0860</td>\n",
              "      <td>THEFT</td>\n",
              "      <td>RETAIL THEFT</td>\n",
              "      <td>DEPARTMENT STORE</td>\n",
              "      <td>True</td>\n",
              "      <td>False</td>\n",
              "      <td>...</td>\n",
              "      <td>9.0</td>\n",
              "      <td>49</td>\n",
              "      <td>06</td>\n",
              "      <td>1178687.0</td>\n",
              "      <td>1836698.0</td>\n",
              "      <td>2014</td>\n",
              "      <td>02/10/2018 03:50:01 PM</td>\n",
              "      <td>41.707197</td>\n",
              "      <td>-87.621256</td>\n",
              "      <td>(41.707196813, -87.621256153)</td>\n",
              "    </tr>\n",
              "    <tr>\n",
              "      <th>152062</th>\n",
              "      <td>9808277</td>\n",
              "      <td>HX457404</td>\n",
              "      <td>10/06/2014 03:20:00 PM</td>\n",
              "      <td>081XX S HOMAN AVE</td>\n",
              "      <td>0530</td>\n",
              "      <td>ASSAULT</td>\n",
              "      <td>AGGRAVATED: OTHER DANG WEAPON</td>\n",
              "      <td>STREET</td>\n",
              "      <td>True</td>\n",
              "      <td>False</td>\n",
              "      <td>...</td>\n",
              "      <td>18.0</td>\n",
              "      <td>70</td>\n",
              "      <td>04A</td>\n",
              "      <td>1155129.0</td>\n",
              "      <td>1850505.0</td>\n",
              "      <td>2014</td>\n",
              "      <td>02/10/2018 03:50:01 PM</td>\n",
              "      <td>41.745588</td>\n",
              "      <td>-87.707158</td>\n",
              "      <td>(41.745587832, -87.707158371)</td>\n",
              "    </tr>\n",
              "    <tr>\n",
              "      <th>46403</th>\n",
              "      <td>9570280</td>\n",
              "      <td>HX220840</td>\n",
              "      <td>04/12/2014 12:15:00 PM</td>\n",
              "      <td>041XX W LAKE ST</td>\n",
              "      <td>1811</td>\n",
              "      <td>NARCOTICS</td>\n",
              "      <td>POSS: CANNABIS 30GMS OR LESS</td>\n",
              "      <td>STREET</td>\n",
              "      <td>True</td>\n",
              "      <td>False</td>\n",
              "      <td>...</td>\n",
              "      <td>28.0</td>\n",
              "      <td>26</td>\n",
              "      <td>18</td>\n",
              "      <td>1148842.0</td>\n",
              "      <td>1901495.0</td>\n",
              "      <td>2014</td>\n",
              "      <td>02/04/2016 06:33:39 AM</td>\n",
              "      <td>41.885635</td>\n",
              "      <td>-87.728881</td>\n",
              "      <td>(41.885634973, -87.728881166)</td>\n",
              "    </tr>\n",
              "    <tr>\n",
              "      <th>72513</th>\n",
              "      <td>9566505</td>\n",
              "      <td>HX217230</td>\n",
              "      <td>04/09/2014 04:40:00 PM</td>\n",
              "      <td>042XX S ARCHER AVE</td>\n",
              "      <td>0486</td>\n",
              "      <td>BATTERY</td>\n",
              "      <td>DOMESTIC BATTERY SIMPLE</td>\n",
              "      <td>STREET</td>\n",
              "      <td>False</td>\n",
              "      <td>True</td>\n",
              "      <td>...</td>\n",
              "      <td>14.0</td>\n",
              "      <td>58</td>\n",
              "      <td>08B</td>\n",
              "      <td>1156955.0</td>\n",
              "      <td>1876483.0</td>\n",
              "      <td>2014</td>\n",
              "      <td>02/10/2018 03:50:01 PM</td>\n",
              "      <td>41.816839</td>\n",
              "      <td>-87.699766</td>\n",
              "      <td>(41.81683858, -87.699766152)</td>\n",
              "    </tr>\n",
              "  </tbody>\n",
              "</table>\n",
              "<p>10 rows × 22 columns</p>\n",
              "</div>"
            ],
            "text/plain": [
              "             ID Case Number                    Date                    Block  \\\n",
              "227173  9854112    HX502559  11/10/2014 08:40:00 PM      096XX S LONGWOOD DR   \n",
              "146448  9718163    HX367195  07/30/2014 07:12:00 PM  056XX S NEW ENGLAND AVE   \n",
              "139535  9714263    HX364760  07/28/2014 11:50:00 PM       030XX W MADISON ST   \n",
              "146787  9687634    HX337754  07/09/2014 09:00:00 AM       003XX N MENARD AVE   \n",
              "210595  9786273    HX434914  09/19/2014 12:06:00 PM     032XX W DOUGLAS BLVD   \n",
              "141349  9797877    HX447167  09/28/2014 06:50:00 PM     044XX S WOODLAWN AVE   \n",
              "138992  9838883    HX488047  10/30/2014 11:50:00 AM         0000X E 103RD ST   \n",
              "152062  9808277    HX457404  10/06/2014 03:20:00 PM        081XX S HOMAN AVE   \n",
              "46403   9570280    HX220840  04/12/2014 12:15:00 PM          041XX W LAKE ST   \n",
              "72513   9566505    HX217230  04/09/2014 04:40:00 PM       042XX S ARCHER AVE   \n",
              "\n",
              "        IUCR     Primary Type                    Description  \\\n",
              "227173  0330          ROBBERY                     AGGRAVATED   \n",
              "146448  0810            THEFT                      OVER $500   \n",
              "139535  0554          ASSAULT     AGG PO HANDS NO/MIN INJURY   \n",
              "146787  1320  CRIMINAL DAMAGE                     TO VEHICLE   \n",
              "210595  0880            THEFT                PURSE-SNATCHING   \n",
              "141349  0820            THEFT                 $500 AND UNDER   \n",
              "138992  0860            THEFT                   RETAIL THEFT   \n",
              "152062  0530          ASSAULT  AGGRAVATED: OTHER DANG WEAPON   \n",
              "46403   1811        NARCOTICS   POSS: CANNABIS 30GMS OR LESS   \n",
              "72513   0486          BATTERY        DOMESTIC BATTERY SIMPLE   \n",
              "\n",
              "           Location Description  Arrest  Domestic  ...  Ward  Community Area  \\\n",
              "227173            PARK PROPERTY   False     False  ...  19.0              72   \n",
              "146448                RESIDENCE   False      True  ...  23.0              56   \n",
              "139535                   STREET    True     False  ...   2.0              27   \n",
              "146787                   STREET   False     False  ...  29.0              25   \n",
              "210595  RESIDENCE PORCH/HALLWAY   False     False  ...  24.0              29   \n",
              "141349            PARK PROPERTY   False     False  ...   4.0              39   \n",
              "138992         DEPARTMENT STORE    True     False  ...   9.0              49   \n",
              "152062                   STREET    True     False  ...  18.0              70   \n",
              "46403                    STREET    True     False  ...  28.0              26   \n",
              "72513                    STREET   False      True  ...  14.0              58   \n",
              "\n",
              "        FBI Code  X Coordinate Y Coordinate  Year              Updated On  \\\n",
              "227173        03     1165600.0    1840691.0  2014  02/10/2018 03:50:01 PM   \n",
              "146448        06     1131350.0    1866406.0  2014  02/10/2018 03:50:01 PM   \n",
              "139535       08A     1156332.0    1899869.0  2014  02/10/2018 03:50:01 PM   \n",
              "146787        14     1137653.0    1901606.0  2014  02/10/2018 03:50:01 PM   \n",
              "210595        06     1155132.0    1893275.0  2014  02/10/2018 03:50:01 PM   \n",
              "141349        06     1184999.0    1875651.0  2014  02/10/2018 03:50:01 PM   \n",
              "138992        06     1178687.0    1836698.0  2014  02/10/2018 03:50:01 PM   \n",
              "152062       04A     1155129.0    1850505.0  2014  02/10/2018 03:50:01 PM   \n",
              "46403         18     1148842.0    1901495.0  2014  02/04/2016 06:33:39 AM   \n",
              "72513        08B     1156955.0    1876483.0  2014  02/10/2018 03:50:01 PM   \n",
              "\n",
              "         Latitude  Longitude                       Location  \n",
              "227173  41.718441 -87.669068  (41.718441222, -87.669068016)  \n",
              "146448  41.789665 -87.793926  (41.789665135, -87.793925548)  \n",
              "139535  41.881025 -87.701420  (41.881025006, -87.701420232)  \n",
              "146787  41.886148 -87.769967  (41.886148491, -87.769967293)  \n",
              "210595  41.862955 -87.706004   (41.86295454, -87.706003528)  \n",
              "141349  41.813942 -87.596921  (41.813942046, -87.596920696)  \n",
              "138992  41.707197 -87.621256  (41.707196813, -87.621256153)  \n",
              "152062  41.745588 -87.707158  (41.745587832, -87.707158371)  \n",
              "46403   41.885635 -87.728881  (41.885634973, -87.728881166)  \n",
              "72513   41.816839 -87.699766   (41.81683858, -87.699766152)  \n",
              "\n",
              "[10 rows x 22 columns]"
            ]
          },
          "execution_count": 12,
          "metadata": {},
          "output_type": "execute_result"
        }
      ],
      "source": [
        "# 1.2 Get a view\n",
        "df_raw.sample (10)"
      ]
    },
    {
      "cell_type": "code",
      "execution_count": 13,
      "metadata": {
        "id": "RpneURMpqI_Q"
      },
      "outputs": [
        {
          "name": "stdout",
          "output_type": "stream",
          "text": [
            "<class 'pandas.core.frame.DataFrame'>\n",
            "RangeIndex: 275846 entries, 0 to 275845\n",
            "Data columns (total 22 columns):\n",
            " #   Column                Non-Null Count   Dtype  \n",
            "---  ------                --------------   -----  \n",
            " 0   ID                    275846 non-null  int64  \n",
            " 1   Case Number           275846 non-null  object \n",
            " 2   Date                  275846 non-null  object \n",
            " 3   Block                 275846 non-null  object \n",
            " 4   IUCR                  275846 non-null  object \n",
            " 5   Primary Type          275846 non-null  object \n",
            " 6   Description           275846 non-null  object \n",
            " 7   Location Description  275435 non-null  object \n",
            " 8   Arrest                275846 non-null  bool   \n",
            " 9   Domestic              275846 non-null  bool   \n",
            " 10  Beat                  275846 non-null  int64  \n",
            " 11  District              275846 non-null  int64  \n",
            " 12  Ward                  275844 non-null  float64\n",
            " 13  Community Area        275846 non-null  int64  \n",
            " 14  FBI Code              275846 non-null  object \n",
            " 15  X Coordinate          273779 non-null  float64\n",
            " 16  Y Coordinate          273779 non-null  float64\n",
            " 17  Year                  275846 non-null  int64  \n",
            " 18  Updated On            275846 non-null  object \n",
            " 19  Latitude              273779 non-null  float64\n",
            " 20  Longitude             273779 non-null  float64\n",
            " 21  Location              273779 non-null  object \n",
            "dtypes: bool(2), float64(5), int64(5), object(10)\n",
            "memory usage: 42.6+ MB\n"
          ]
        }
      ],
      "source": [
        "# 1.3 Get info\n",
        "df_raw.info ()"
      ]
    },
    {
      "cell_type": "code",
      "execution_count": 15,
      "metadata": {
        "id": "Qo1fhRbRtHFQ"
      },
      "outputs": [
        {
          "name": "stderr",
          "output_type": "stream",
          "text": [
            "/tmp/ipykernel_13062/699675345.py:3: UserWarning: Could not infer format, so each element will be parsed individually, falling back to `dateutil`. To ensure parsing is consistent and as-expected, please specify a format.\n",
            "  df[\"Date\"]=pd.to_datetime(df[\"Date\"])\n",
            "/tmp/ipykernel_13062/699675345.py:4: UserWarning: Could not infer format, so each element will be parsed individually, falling back to `dateutil`. To ensure parsing is consistent and as-expected, please specify a format.\n",
            "  df[\"Updated On\"]=pd.to_datetime(df[\"Updated On\"])\n"
          ]
        }
      ],
      "source": [
        "# 1.4 Let's make some transformations\n",
        "df=df_raw.copy()\n",
        "df[\"Date\"]=pd.to_datetime(df[\"Date\"])\n",
        "df[\"Updated On\"]=pd.to_datetime(df[\"Updated On\"])"
      ]
    },
    {
      "cell_type": "code",
      "execution_count": 16,
      "metadata": {
        "id": "8VCYPSyeu66q"
      },
      "outputs": [
        {
          "name": "stdout",
          "output_type": "stream",
          "text": [
            "<class 'pandas.core.frame.DataFrame'>\n",
            "RangeIndex: 275846 entries, 0 to 275845\n",
            "Data columns (total 22 columns):\n",
            " #   Column                Non-Null Count   Dtype         \n",
            "---  ------                --------------   -----         \n",
            " 0   ID                    275846 non-null  int64         \n",
            " 1   Case Number           275846 non-null  object        \n",
            " 2   Date                  275846 non-null  datetime64[ns]\n",
            " 3   Block                 275846 non-null  object        \n",
            " 4   IUCR                  275846 non-null  object        \n",
            " 5   Primary Type          275846 non-null  object        \n",
            " 6   Description           275846 non-null  object        \n",
            " 7   Location Description  275435 non-null  object        \n",
            " 8   Arrest                275846 non-null  bool          \n",
            " 9   Domestic              275846 non-null  bool          \n",
            " 10  Beat                  275846 non-null  int64         \n",
            " 11  District              275846 non-null  int64         \n",
            " 12  Ward                  275844 non-null  float64       \n",
            " 13  Community Area        275846 non-null  int64         \n",
            " 14  FBI Code              275846 non-null  object        \n",
            " 15  X Coordinate          273779 non-null  float64       \n",
            " 16  Y Coordinate          273779 non-null  float64       \n",
            " 17  Year                  275846 non-null  int64         \n",
            " 18  Updated On            275846 non-null  datetime64[ns]\n",
            " 19  Latitude              273779 non-null  float64       \n",
            " 20  Longitude             273779 non-null  float64       \n",
            " 21  Location              273779 non-null  object        \n",
            "dtypes: bool(2), datetime64[ns](2), float64(5), int64(5), object(8)\n",
            "memory usage: 42.6+ MB\n"
          ]
        }
      ],
      "source": [
        "# 1.4.1 Visualize the transformations\n",
        "df.info()"
      ]
    },
    {
      "cell_type": "code",
      "execution_count": 20,
      "metadata": {
        "id": "YbKDW0kJxiwG"
      },
      "outputs": [
        {
          "data": {
            "text/html": [
              "<div>\n",
              "<style scoped>\n",
              "    .dataframe tbody tr th:only-of-type {\n",
              "        vertical-align: middle;\n",
              "    }\n",
              "\n",
              "    .dataframe tbody tr th {\n",
              "        vertical-align: top;\n",
              "    }\n",
              "\n",
              "    .dataframe thead th {\n",
              "        text-align: right;\n",
              "    }\n",
              "</style>\n",
              "<table border=\"1\" class=\"dataframe\">\n",
              "  <thead>\n",
              "    <tr style=\"text-align: right;\">\n",
              "      <th></th>\n",
              "      <th>Case Number</th>\n",
              "      <th>Block</th>\n",
              "      <th>IUCR</th>\n",
              "      <th>Primary Type</th>\n",
              "      <th>Description</th>\n",
              "      <th>Location Description</th>\n",
              "      <th>Arrest</th>\n",
              "      <th>Domestic</th>\n",
              "      <th>Ward</th>\n",
              "      <th>Community Area</th>\n",
              "      <th>FBI Code</th>\n",
              "      <th>Location</th>\n",
              "    </tr>\n",
              "  </thead>\n",
              "  <tbody>\n",
              "    <tr>\n",
              "      <th>count</th>\n",
              "      <td>275846</td>\n",
              "      <td>275846</td>\n",
              "      <td>275846</td>\n",
              "      <td>275846</td>\n",
              "      <td>275846</td>\n",
              "      <td>275435</td>\n",
              "      <td>275846</td>\n",
              "      <td>275846</td>\n",
              "      <td>275844.0</td>\n",
              "      <td>275846</td>\n",
              "      <td>275846</td>\n",
              "      <td>273779</td>\n",
              "    </tr>\n",
              "    <tr>\n",
              "      <th>unique</th>\n",
              "      <td>275838</td>\n",
              "      <td>27539</td>\n",
              "      <td>329</td>\n",
              "      <td>34</td>\n",
              "      <td>333</td>\n",
              "      <td>135</td>\n",
              "      <td>2</td>\n",
              "      <td>2</td>\n",
              "      <td>50.0</td>\n",
              "      <td>77</td>\n",
              "      <td>26</td>\n",
              "      <td>138531</td>\n",
              "    </tr>\n",
              "    <tr>\n",
              "      <th>top</th>\n",
              "      <td>HX119907</td>\n",
              "      <td>001XX N STATE ST</td>\n",
              "      <td>0820</td>\n",
              "      <td>THEFT</td>\n",
              "      <td>$500 AND UNDER</td>\n",
              "      <td>STREET</td>\n",
              "      <td>False</td>\n",
              "      <td>False</td>\n",
              "      <td>28.0</td>\n",
              "      <td>25</td>\n",
              "      <td>06</td>\n",
              "      <td>(41.883500187, -87.627876698)</td>\n",
              "    </tr>\n",
              "    <tr>\n",
              "      <th>freq</th>\n",
              "      <td>2</td>\n",
              "      <td>773</td>\n",
              "      <td>28868</td>\n",
              "      <td>61568</td>\n",
              "      <td>28868</td>\n",
              "      <td>63085</td>\n",
              "      <td>196189</td>\n",
              "      <td>228326</td>\n",
              "      <td>14559.0</td>\n",
              "      <td>18820</td>\n",
              "      <td>61568</td>\n",
              "      <td>458</td>\n",
              "    </tr>\n",
              "  </tbody>\n",
              "</table>\n",
              "</div>"
            ],
            "text/plain": [
              "       Case Number             Block    IUCR Primary Type     Description  \\\n",
              "count       275846            275846  275846       275846          275846   \n",
              "unique      275838             27539     329           34             333   \n",
              "top       HX119907  001XX N STATE ST    0820        THEFT  $500 AND UNDER   \n",
              "freq             2               773   28868        61568           28868   \n",
              "\n",
              "       Location Description  Arrest Domestic      Ward  Community Area  \\\n",
              "count                275435  275846   275846  275844.0          275846   \n",
              "unique                  135       2        2      50.0              77   \n",
              "top                  STREET   False    False      28.0              25   \n",
              "freq                  63085  196189   228326   14559.0           18820   \n",
              "\n",
              "       FBI Code                       Location  \n",
              "count    275846                         273779  \n",
              "unique       26                         138531  \n",
              "top          06  (41.883500187, -87.627876698)  \n",
              "freq      61568                            458  "
            ]
          },
          "execution_count": 20,
          "metadata": {},
          "output_type": "execute_result"
        }
      ],
      "source": [
        "# 1.5 How many single values are in our categorical variables?\n",
        "my_list=['Block','Primary Type','Description','FBI Code','Community Area','Location Description','Ward','IUCR']\n",
        "df[my_list]=df[my_list].astype(\"category\")\n",
        "df.describe(exclude=[np.number,np.datetime64])"
      ]
    },
    {
      "cell_type": "code",
      "execution_count": 30,
      "metadata": {
        "id": "uYHXN5FSz3bB"
      },
      "outputs": [],
      "source": [
        "# 1.6 Let's create our categorical variables\n"
      ]
    },
    {
      "cell_type": "markdown",
      "metadata": {
        "id": "zM2PKJNk42XD"
      },
      "source": [
        "Let's agree to a coding convention. We'll make our columns a single word, in lower case. For example our column `Case Number` will be `case_number`"
      ]
    },
    {
      "cell_type": "code",
      "execution_count": 21,
      "metadata": {
        "id": "m6eg6XHa40Xy"
      },
      "outputs": [
        {
          "data": {
            "text/plain": [
              "Index(['id', 'case_number', 'date', 'block', 'iucr', 'primary_type',\n",
              "       'description', 'location_description', 'arrest', 'domestic', 'beat',\n",
              "       'district', 'ward', 'community_area', 'fbi_code', 'x_coordinate',\n",
              "       'y_coordinate', 'year', 'updated_on', 'latitude', 'longitude',\n",
              "       'location'],\n",
              "      dtype='object')"
            ]
          },
          "execution_count": 21,
          "metadata": {},
          "output_type": "execute_result"
        }
      ],
      "source": [
        "# 1.7 Let's convert our columns then\n",
        "df.columns=df.columns.str.strip().str.lower().str.replace(\" \",\"_\")\n",
        "df.columns"
      ]
    },
    {
      "cell_type": "markdown",
      "metadata": {
        "id": "2elv7ngpw26U"
      },
      "source": [
        "Now let me bring a new concept to the table: Tidy Data.\n",
        "\n",
        "Tidy data is a standard way of mapping the meaning of a dataset to its structure. A dataset is messy or tidy depending on how rows, columns and tables are matched up with observations, variables and types. In tidy data:\n",
        "\n",
        "- Every column is a variable.\n",
        "\n",
        "- Every row is an observation.\n",
        "\n",
        "- Every cell is a single value.\n",
        "\n",
        "Tidy data makes it easy for an analyst or a computer to extract needed variables because it provides a standard way of structuring a dataset. Compare the different versions of the classroom data: in the messy version you need to use different strategies to extract different variables. This slows analysis and invites errors. If you consider how many data analysis operations involve all of the values in a variable (every aggregation function), you can see how important it is to extract these values in a simple, standard way. [2]"
      ]
    },
    {
      "cell_type": "code",
      "execution_count": 22,
      "metadata": {
        "id": "FpINqjmSw0OS"
      },
      "outputs": [],
      "source": [
        "# 1.8 Now let's tidy up our dataset\n",
        "df=df.drop(\"location\",axis=1)\n"
      ]
    },
    {
      "cell_type": "code",
      "execution_count": 24,
      "metadata": {
        "id": "KGDrcxft-XiB"
      },
      "outputs": [
        {
          "name": "stdout",
          "output_type": "stream",
          "text": [
            "<class 'pandas.core.frame.DataFrame'>\n",
            "RangeIndex: 275846 entries, 0 to 275845\n",
            "Data columns (total 21 columns):\n",
            " #   Column                Non-Null Count   Dtype         \n",
            "---  ------                --------------   -----         \n",
            " 0   id                    275846 non-null  int64         \n",
            " 1   case_number           275846 non-null  object        \n",
            " 2   date                  275846 non-null  datetime64[ns]\n",
            " 3   block                 275846 non-null  category      \n",
            " 4   iucr                  275846 non-null  category      \n",
            " 5   primary_type          275846 non-null  category      \n",
            " 6   description           275846 non-null  category      \n",
            " 7   location_description  275435 non-null  category      \n",
            " 8   arrest                275846 non-null  bool          \n",
            " 9   domestic              275846 non-null  bool          \n",
            " 10  beat                  275846 non-null  int64         \n",
            " 11  district              275846 non-null  int64         \n",
            " 12  ward                  275844 non-null  category      \n",
            " 13  community_area        275846 non-null  category      \n",
            " 14  fbi_code              275846 non-null  category      \n",
            " 15  x_coordinate          273779 non-null  float64       \n",
            " 16  y_coordinate          273779 non-null  float64       \n",
            " 17  year                  275846 non-null  int64         \n",
            " 18  updated_on            275846 non-null  datetime64[ns]\n",
            " 19  latitude              273779 non-null  float64       \n",
            " 20  longitude             273779 non-null  float64       \n",
            "dtypes: bool(2), category(8), datetime64[ns](2), float64(4), int64(4), object(1)\n",
            "memory usage: 28.1+ MB\n"
          ]
        }
      ],
      "source": [
        "# 1.8.1 Show information of our transformed dataset\n",
        "df.info()"
      ]
    },
    {
      "cell_type": "markdown",
      "metadata": {
        "id": "9O2c9Rdg_HmX"
      },
      "source": [
        "Now we are ready to answer questions!"
      ]
    },
    {
      "cell_type": "code",
      "execution_count": 26,
      "metadata": {},
      "outputs": [
        {
          "data": {
            "text/html": [
              "<div>\n",
              "<style scoped>\n",
              "    .dataframe tbody tr th:only-of-type {\n",
              "        vertical-align: middle;\n",
              "    }\n",
              "\n",
              "    .dataframe tbody tr th {\n",
              "        vertical-align: top;\n",
              "    }\n",
              "\n",
              "    .dataframe thead th {\n",
              "        text-align: right;\n",
              "    }\n",
              "</style>\n",
              "<table border=\"1\" class=\"dataframe\">\n",
              "  <thead>\n",
              "    <tr style=\"text-align: right;\">\n",
              "      <th></th>\n",
              "      <th>id</th>\n",
              "      <th>date</th>\n",
              "      <th>beat</th>\n",
              "      <th>district</th>\n",
              "      <th>x_coordinate</th>\n",
              "      <th>y_coordinate</th>\n",
              "      <th>year</th>\n",
              "      <th>updated_on</th>\n",
              "      <th>latitude</th>\n",
              "      <th>longitude</th>\n",
              "    </tr>\n",
              "  </thead>\n",
              "  <tbody>\n",
              "    <tr>\n",
              "      <th>count</th>\n",
              "      <td>2.758460e+05</td>\n",
              "      <td>275846</td>\n",
              "      <td>275846.000000</td>\n",
              "      <td>275846.000000</td>\n",
              "      <td>2.737790e+05</td>\n",
              "      <td>2.737790e+05</td>\n",
              "      <td>275846.0</td>\n",
              "      <td>275846</td>\n",
              "      <td>273779.000000</td>\n",
              "      <td>273779.000000</td>\n",
              "    </tr>\n",
              "    <tr>\n",
              "      <th>mean</th>\n",
              "      <td>9.683541e+06</td>\n",
              "      <td>2014-07-04 18:47:46.172817408</td>\n",
              "      <td>1142.631276</td>\n",
              "      <td>11.197610</td>\n",
              "      <td>1.164356e+06</td>\n",
              "      <td>1.885349e+06</td>\n",
              "      <td>2014.0</td>\n",
              "      <td>2017-10-22 19:19:14.469878272</td>\n",
              "      <td>41.840996</td>\n",
              "      <td>-87.672406</td>\n",
              "    </tr>\n",
              "    <tr>\n",
              "      <th>min</th>\n",
              "      <td>2.121200e+04</td>\n",
              "      <td>2014-01-01 00:00:00</td>\n",
              "      <td>111.000000</td>\n",
              "      <td>1.000000</td>\n",
              "      <td>0.000000e+00</td>\n",
              "      <td>0.000000e+00</td>\n",
              "      <td>2014.0</td>\n",
              "      <td>2015-08-17 15:03:40</td>\n",
              "      <td>36.619446</td>\n",
              "      <td>-91.686566</td>\n",
              "    </tr>\n",
              "    <tr>\n",
              "      <th>25%</th>\n",
              "      <td>9.575158e+06</td>\n",
              "      <td>2014-04-12 02:02:30</td>\n",
              "      <td>612.000000</td>\n",
              "      <td>6.000000</td>\n",
              "      <td>1.152356e+06</td>\n",
              "      <td>1.858518e+06</td>\n",
              "      <td>2014.0</td>\n",
              "      <td>2018-02-10 15:50:01</td>\n",
              "      <td>41.766999</td>\n",
              "      <td>-87.716063</td>\n",
              "    </tr>\n",
              "    <tr>\n",
              "      <th>50%</th>\n",
              "      <td>9.690226e+06</td>\n",
              "      <td>2014-07-05 19:46:00</td>\n",
              "      <td>1023.000000</td>\n",
              "      <td>10.000000</td>\n",
              "      <td>1.165899e+06</td>\n",
              "      <td>1.891103e+06</td>\n",
              "      <td>2014.0</td>\n",
              "      <td>2018-02-10 15:50:01</td>\n",
              "      <td>41.856790</td>\n",
              "      <td>-87.666507</td>\n",
              "    </tr>\n",
              "    <tr>\n",
              "      <th>75%</th>\n",
              "      <td>9.803724e+06</td>\n",
              "      <td>2014-09-27 03:00:00</td>\n",
              "      <td>1651.000000</td>\n",
              "      <td>16.000000</td>\n",
              "      <td>1.176364e+06</td>\n",
              "      <td>1.908316e+06</td>\n",
              "      <td>2014.0</td>\n",
              "      <td>2018-02-10 15:50:01</td>\n",
              "      <td>41.903997</td>\n",
              "      <td>-87.628093</td>\n",
              "    </tr>\n",
              "    <tr>\n",
              "      <th>max</th>\n",
              "      <td>1.356354e+07</td>\n",
              "      <td>2014-12-31 23:58:00</td>\n",
              "      <td>2535.000000</td>\n",
              "      <td>31.000000</td>\n",
              "      <td>1.205119e+06</td>\n",
              "      <td>1.951507e+06</td>\n",
              "      <td>2014.0</td>\n",
              "      <td>2024-08-18 15:40:47</td>\n",
              "      <td>42.022537</td>\n",
              "      <td>-87.524533</td>\n",
              "    </tr>\n",
              "    <tr>\n",
              "      <th>std</th>\n",
              "      <td>4.287418e+05</td>\n",
              "      <td>NaN</td>\n",
              "      <td>688.962222</td>\n",
              "      <td>6.882186</td>\n",
              "      <td>1.729162e+04</td>\n",
              "      <td>3.231096e+04</td>\n",
              "      <td>0.0</td>\n",
              "      <td>NaN</td>\n",
              "      <td>0.088908</td>\n",
              "      <td>0.062668</td>\n",
              "    </tr>\n",
              "  </tbody>\n",
              "</table>\n",
              "</div>"
            ],
            "text/plain": [
              "                 id                           date           beat  \\\n",
              "count  2.758460e+05                         275846  275846.000000   \n",
              "mean   9.683541e+06  2014-07-04 18:47:46.172817408    1142.631276   \n",
              "min    2.121200e+04            2014-01-01 00:00:00     111.000000   \n",
              "25%    9.575158e+06            2014-04-12 02:02:30     612.000000   \n",
              "50%    9.690226e+06            2014-07-05 19:46:00    1023.000000   \n",
              "75%    9.803724e+06            2014-09-27 03:00:00    1651.000000   \n",
              "max    1.356354e+07            2014-12-31 23:58:00    2535.000000   \n",
              "std    4.287418e+05                            NaN     688.962222   \n",
              "\n",
              "            district  x_coordinate  y_coordinate      year  \\\n",
              "count  275846.000000  2.737790e+05  2.737790e+05  275846.0   \n",
              "mean       11.197610  1.164356e+06  1.885349e+06    2014.0   \n",
              "min         1.000000  0.000000e+00  0.000000e+00    2014.0   \n",
              "25%         6.000000  1.152356e+06  1.858518e+06    2014.0   \n",
              "50%        10.000000  1.165899e+06  1.891103e+06    2014.0   \n",
              "75%        16.000000  1.176364e+06  1.908316e+06    2014.0   \n",
              "max        31.000000  1.205119e+06  1.951507e+06    2014.0   \n",
              "std         6.882186  1.729162e+04  3.231096e+04       0.0   \n",
              "\n",
              "                          updated_on       latitude      longitude  \n",
              "count                         275846  273779.000000  273779.000000  \n",
              "mean   2017-10-22 19:19:14.469878272      41.840996     -87.672406  \n",
              "min              2015-08-17 15:03:40      36.619446     -91.686566  \n",
              "25%              2018-02-10 15:50:01      41.766999     -87.716063  \n",
              "50%              2018-02-10 15:50:01      41.856790     -87.666507  \n",
              "75%              2018-02-10 15:50:01      41.903997     -87.628093  \n",
              "max              2024-08-18 15:40:47      42.022537     -87.524533  \n",
              "std                              NaN       0.088908       0.062668  "
            ]
          },
          "execution_count": 26,
          "metadata": {},
          "output_type": "execute_result"
        }
      ],
      "source": [
        "df.describe()"
      ]
    },
    {
      "cell_type": "code",
      "execution_count": 39,
      "metadata": {
        "id": "iTcbeKAQ--wp"
      },
      "outputs": [
        {
          "name": "stdout",
          "output_type": "stream",
          "text": [
            "total cases: 275846\n",
            "in december 2014: 20414\n"
          ]
        },
        {
          "ename": "TypeError",
          "evalue": "'function' object is not subscriptable",
          "output_type": "error",
          "traceback": [
            "\u001b[0;31m---------------------------------------------------------------------------\u001b[0m",
            "\u001b[0;31mTypeError\u001b[0m                                 Traceback (most recent call last)",
            "Cell \u001b[0;32mIn[39], line 12\u001b[0m\n\u001b[1;32m     10\u001b[0m byte_day \u001b[38;5;241m=\u001b[39m df[\u001b[38;5;124m'\u001b[39m\u001b[38;5;124mdate\u001b[39m\u001b[38;5;124m'\u001b[39m]\u001b[38;5;241m.\u001b[39mgroupby(df[\u001b[38;5;124m'\u001b[39m\u001b[38;5;124mdate\u001b[39m\u001b[38;5;124m'\u001b[39m]\u001b[38;5;241m.\u001b[39mdt\u001b[38;5;241m.\u001b[39mdayofweek)\u001b[38;5;241m.\u001b[39mcount()\n\u001b[1;32m     11\u001b[0m plt\u001b[38;5;241m.\u001b[39mplot(byte_day)\n\u001b[0;32m---> 12\u001b[0m \u001b[43mplt\u001b[49m\u001b[38;5;241;43m.\u001b[39;49m\u001b[43mylim\u001b[49m\u001b[43m[\u001b[49m\u001b[38;5;241;43m0\u001b[39;49m\u001b[43m,\u001b[49m\u001b[38;5;241;43m50000\u001b[39;49m\u001b[43m]\u001b[49m\n\u001b[1;32m     13\u001b[0m plt\u001b[38;5;241m.\u001b[39mshow()\n\u001b[1;32m     14\u001b[0m \u001b[38;5;66;03m# 2.5 Is there a trend in the crimes commited?\u001b[39;00m\n",
            "\u001b[0;31mTypeError\u001b[0m: 'function' object is not subscriptable"
          ]
        },
        {
          "data": {
            "image/png": "[encoded data removed]",
            "text/plain": [
              "<Figure size 640x480 with 1 Axes>"
            ]
          },
          "metadata": {},
          "output_type": "display_data"
        }
      ],
      "source": [
        "# 2. Data analysis\n",
        "# 2.1 How many crimes were reported in 2014?\n",
        "print(f\"total cases: {len(df)}\")\n",
        "# 2.2 How many crimes were reported in December 2014?\n",
        "mask = (df['date'] >= '2014-12-01') & (df['date'] <= '2014-12-31')\n",
        "print(f'in december 2014: {len(df[mask])}')\n",
        "# 2.3 What are the top 5 crimes?\n",
        "df['primary_type'].value_counts().nlargest(5)\n",
        "# 2.4 Which day has the most and less crimes?\n",
        "byte_day = df['date'].groupby(df['date'].dt.dayofweek).count()\n",
        "plt.plot(byte_day)\n",
        "plt.ylim[0,50000]\n",
        "plt.show()\n",
        "# 2.5 Is there a trend in the crimes commited?\n",
        "byte_week = df['date'].groupby(df['date'].dt.isocalendar().week).count()\n",
        "plt.plot(byte_week)\n",
        "plt.ylim[0,10000]\n",
        "plt.show()"
      ]
    },
    {
      "cell_type": "markdown",
      "metadata": {
        "id": "JZp5nO1QWTsM"
      },
      "source": [
        "## References\n",
        "[1] Chicago Data Portal. (August 27, 2024). *Crimes 2001-to date*, downloaded from https://data.cityofchicago.org/api/views/qnmj-8ku6/rows.csv?accessType=DOWNLOAD  \n",
        "[2] Hadley Wickham and Garrett Grolemund. (Aug 27. 2024). *R for Data Science*, downloaded from https://r4ds.had.co.nz/tidy-data.html"
      ]
    }
  ],
  "metadata": {
    "colab": {
      "provenance": []
    },
    "kernelspec": {
      "display_name": "Python 3",
      "name": "python3"
    },
    "language_info": {
      "codemirror_mode": {
        "name": "ipython",
        "version": 3
      },
      "file_extension": ".py",
      "mimetype": "text/x-python",
      "name": "python",
      "nbconvert_exporter": "python",
      "pygments_lexer": "ipython3",
      "version": "3.12.1"
    }
  },
  "nbformat": 4,
  "nbformat_minor": 0
}
